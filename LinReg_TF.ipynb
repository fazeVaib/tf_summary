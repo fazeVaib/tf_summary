{
 "cells": [
  {
   "cell_type": "code",
   "execution_count": 1,
   "metadata": {},
   "outputs": [],
   "source": [
    "import tensorflow as tf"
   ]
  },
  {
   "cell_type": "code",
   "execution_count": 7,
   "metadata": {},
   "outputs": [],
   "source": [
    "sess = tf.Session()\n",
    "# Model Parameters\n",
    "\n",
    "W = tf.Variable([3.0], name='weight')\n",
    "b = tf.Variable([1.0], name='bias')"
   ]
  },
  {
   "cell_type": "code",
   "execution_count": 8,
   "metadata": {},
   "outputs": [],
   "source": [
    "# Model Inputs\n",
    "\n",
    "X = tf.placeholder(tf.float32)\n",
    "Y = tf.placeholder(tf.float32)\n",
    "\n",
    "predictions = W*X + b\n",
    "\n",
    "# loss function, using sum of squared errors\n",
    "\n",
    "loss = tf.reduce_sum(tf.square(predictions - Y))"
   ]
  },
  {
   "cell_type": "markdown",
   "metadata": {},
   "source": [
    "Optimizers are used for finding the best value for some parameters with respect to some loss function in machine learning models. There’s many kind of optimizers, the one we are using here is called Gradient Descent.We start with a random value for the weight and the bias. The optimizer updates the weight and the bias parameter in a direction(increasing or decreasing the numbers) to minimize the value of the loss. We also provide a learning rate to use as a scale factor while updating."
   ]
  },
  {
   "cell_type": "code",
   "execution_count": 9,
   "metadata": {},
   "outputs": [],
   "source": [
    "# training output\n",
    "\n",
    "train = tf.train.GradientDescentOptimizer(learning_rate=0.01).minimize(loss)"
   ]
  },
  {
   "cell_type": "code",
   "execution_count": 10,
   "metadata": {},
   "outputs": [],
   "source": [
    "# train data\n",
    "\n",
    "x = [1.2, 3.2, 3.2, 5.3]\n",
    "y = [12, 32, 32, 53]\n",
    "\n",
    "sess.run(tf.global_variables_initializer())\n",
    "for train_steps in range(2000):\n",
    "    sess.run(train, feed_dict={X:x, Y:y})"
   ]
  },
  {
   "cell_type": "code",
   "execution_count": 11,
   "metadata": {},
   "outputs": [
    {
     "name": "stdout",
     "output_type": "stream",
     "text": [
      "Weight:  [9.999998]\n",
      "Bias:  [5.648765e-06]\n",
      "Loss:  2.910383e-11\n"
     ]
    }
   ],
   "source": [
    "weight, bias, loss = sess.run([W, b, loss], feed_dict={X:x, Y:y})\n",
    "print(\"Weight: \", weight)\n",
    "print(\"Bias: \", bias)\n",
    "print(\"Loss: \", loss)"
   ]
  }
 ],
 "metadata": {
  "kernelspec": {
   "display_name": "Python 3",
   "language": "python",
   "name": "python3"
  },
  "language_info": {
   "codemirror_mode": {
    "name": "ipython",
    "version": 3
   },
   "file_extension": ".py",
   "mimetype": "text/x-python",
   "name": "python",
   "nbconvert_exporter": "python",
   "pygments_lexer": "ipython3",
   "version": "3.6.6"
  }
 },
 "nbformat": 4,
 "nbformat_minor": 2
}
